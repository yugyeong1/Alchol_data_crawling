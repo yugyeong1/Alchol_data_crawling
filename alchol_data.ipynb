{
 "cells": [
  {
   "cell_type": "code",
   "execution_count": 83,
   "metadata": {},
   "outputs": [],
   "source": [
    "import pandas as pd\n",
    "import matplotlib.pyplot as plt\n",
    "import seaborn as sb\n",
    "import numpy as np"
   ]
  },
  {
   "cell_type": "code",
   "execution_count": null,
   "metadata": {},
   "outputs": [],
   "source": [
    "%matplotlib inline\n",
    "\n",
    "import platform\n",
    "from matplotlib import font_manager, rc \n",
    "plt.rcParams['axes.unicode_minus'] = False\n",
    "\n",
    "if platform.system() == 'Darwin':\n",
    "    rc('font', family='AppleGothic')\n",
    "elif platform.system() == 'Windows':\n",
    "    path = \"c:/Windows/Fonts/malgun.ttf\"\n",
    "    font_name = font_manager.FontProperties(fname=path).get_name()\n",
    "    rc('font', family=font_name)\n",
    "else:\n",
    "    print('Unknown system... sorry~~~~')"
   ]
  },
  {
   "cell_type": "code",
   "execution_count": 45,
   "metadata": {},
   "outputs": [],
   "source": [
    "alchol_df = pd.read_csv('data/alchol_data.csv', index_col= 0)"
   ]
  },
  {
   "cell_type": "code",
   "execution_count": 69,
   "metadata": {},
   "outputs": [
    {
     "data": {
      "text/html": [
       "<div>\n",
       "<style scoped>\n",
       "    .dataframe tbody tr th:only-of-type {\n",
       "        vertical-align: middle;\n",
       "    }\n",
       "\n",
       "    .dataframe tbody tr th {\n",
       "        vertical-align: top;\n",
       "    }\n",
       "\n",
       "    .dataframe thead th {\n",
       "        text-align: right;\n",
       "    }\n",
       "</style>\n",
       "<table border=\"1\" class=\"dataframe\">\n",
       "  <thead>\n",
       "    <tr style=\"text-align: right;\">\n",
       "      <th></th>\n",
       "      <th>percent</th>\n",
       "    </tr>\n",
       "  </thead>\n",
       "  <tbody>\n",
       "    <tr>\n",
       "      <th>count</th>\n",
       "      <td>1334.000000</td>\n",
       "    </tr>\n",
       "    <tr>\n",
       "      <th>mean</th>\n",
       "      <td>12.200975</td>\n",
       "    </tr>\n",
       "    <tr>\n",
       "      <th>std</th>\n",
       "      <td>11.225875</td>\n",
       "    </tr>\n",
       "    <tr>\n",
       "      <th>min</th>\n",
       "      <td>0.000000</td>\n",
       "    </tr>\n",
       "    <tr>\n",
       "      <th>25%</th>\n",
       "      <td>5.200000</td>\n",
       "    </tr>\n",
       "    <tr>\n",
       "      <th>50%</th>\n",
       "      <td>7.250000</td>\n",
       "    </tr>\n",
       "    <tr>\n",
       "      <th>75%</th>\n",
       "      <td>13.875000</td>\n",
       "    </tr>\n",
       "    <tr>\n",
       "      <th>max</th>\n",
       "      <td>75.500000</td>\n",
       "    </tr>\n",
       "  </tbody>\n",
       "</table>\n",
       "</div>"
      ],
      "text/plain": [
       "           percent\n",
       "count  1334.000000\n",
       "mean     12.200975\n",
       "std      11.225875\n",
       "min       0.000000\n",
       "25%       5.200000\n",
       "50%       7.250000\n",
       "75%      13.875000\n",
       "max      75.500000"
      ]
     },
     "execution_count": 69,
     "metadata": {},
     "output_type": "execute_result"
    }
   ],
   "source": [
    "alchol_df.describe()"
   ]
  },
  {
   "cell_type": "code",
   "execution_count": 36,
   "metadata": {},
   "outputs": [
    {
     "data": {
      "text/plain": [
       "name          0\n",
       "percent       0\n",
       "class         0\n",
       "category    435\n",
       "produce       0\n",
       "supply        0\n",
       "img_url       0\n",
       "dtype: int64"
      ]
     },
     "execution_count": 36,
     "metadata": {},
     "output_type": "execute_result"
    }
   ],
   "source": [
    "alchol_df.isna().sum()"
   ]
  },
  {
   "cell_type": "code",
   "execution_count": 37,
   "metadata": {},
   "outputs": [
    {
     "data": {
      "text/plain": [
       "array([nan, '스피릿', '칵테일', '증류식', '사이더', '맥주', '기타', '윗비어', '페일 라거', '라거',\n",
       "       '스타우트', '사워', '임페리얼 스타우트', '와일드 에일', 'IPA', '필스너', '더블 IPA',\n",
       "       '페일 에일', '헬레스 라거', '고제', '메르첸', '벨지안 에일', '블론드 에일', '트리펠', '람빅',\n",
       "       '프루트 비어', '바이젠 복', '바이젠', '위트 비어', '두벨', '세종', '포터', '발틱 포터',\n",
       "       '벨지안 스트롱 에일', '임페리얼 IPA', '브라운 에일', '베를리너 바이세', '다크 IPA', '세션 IPA',\n",
       "       '위트 에일', '다크 라거', '골든 에일', '엠버 에일', '쿼드루펠', '라들러', '괴즈',\n",
       "       '잉글리시 스트롱 에일', '헤페 바이젠', '프루티드 람빅', '올드 에일', '쾰쉬', '아메리칸 스트롱 에일',\n",
       "       '발리 와인', '아이스 복', '도펠 복', '둥켈', '엠버 라거', '그리셋', '스모크 비어', '둥켈 바이젠',\n",
       "       '스카치 에일', '희석식', '막걸리'], dtype=object)"
      ]
     },
     "execution_count": 37,
     "metadata": {},
     "output_type": "execute_result"
    }
   ],
   "source": [
    "alchol_df['category'].unique()"
   ]
  },
  {
   "cell_type": "code",
   "execution_count": 38,
   "metadata": {},
   "outputs": [
    {
     "data": {
      "text/plain": [
       "array(['13.0%', '14.0%', '13.5%', '16.0%', '15.0%', '25.0%', '12.0%',\n",
       "       '13.9%', '7.0%', '9.0%', '8.0%', '18.0%', '40.0%', '6.1%', '23.0%',\n",
       "       '35.0%', '75.5%', '30.0%', '37.5%', '45.0%', '43.0%', '42.0%',\n",
       "       '41.0%', '36.5%', '17.0%', '4.0%', '17.5%', '41.8%', '69.0%',\n",
       "       '44.0%', '28.0%', '14.9%', '20.0%', '12.5%', '11.0%', '19.0%',\n",
       "       '3.0%', '22.0%', '18.8%', '52.0%', '32.0%', '33.0%', '53.0%',\n",
       "       '60.0%', '19.8%', '29.0%', '54.0%', '24.0%', '21.0%', '37.0%',\n",
       "       '4.7%', '6.3%', '4.6%', '4.9%', '4.1%', '4.5%', '5.5%', '5.0%',\n",
       "       '0.5%', '7.4%', '8.5%', '6.7%', '5.2%', '4.2%', '2.5%', '10.0%',\n",
       "       '6.5%', '6.4%', '6.0%', '3.5%', '2.0%', '7.5%', '0.3%', '0.0%',\n",
       "       '5.4%', '9.5%', '6.9%', '5.9%', '5.6%', '9.4%', '11.2%', '7.2%',\n",
       "       '12.9%', '14.5%', '10.5%', '5.1%', '5.8%', '5.7%', '11.5%', '6.8%',\n",
       "       '7.7%', '6.2%', '11.8%', '7.3%', '6.6%', '10.1%', '8.3%', '4.8%',\n",
       "       '4.4%', '5.3%', '8.2%', '4.3%', '2.4%', '11.7%', '8.7%', '7.8%',\n",
       "       '3.8%', '9.9%', '9.6%', '8.1%', '10.6%', '10.4%', '9.1%', '11.9%',\n",
       "       '12.4%', '11.1%', '2.2%', '8.4%', '10.2%', '3.7%', '7.9%', '7.1%',\n",
       "       '9.8%', '9.2%', '12.2%', '9.7%', '10.3%', '3.9%', '7.6%', '8.6%',\n",
       "       '3.6%', '13.8%', '9.3%', '3.4%', '16.5%', '31.0%', '16.7%',\n",
       "       '20.1%', '16.9%', '17.3%', '10.8%'], dtype=object)"
      ]
     },
     "execution_count": 38,
     "metadata": {},
     "output_type": "execute_result"
    }
   ],
   "source": [
    "alchol_df['percent'].unique()"
   ]
  },
  {
   "cell_type": "code",
   "execution_count": 39,
   "metadata": {},
   "outputs": [
    {
     "data": {
      "text/plain": [
       "382"
      ]
     },
     "execution_count": 39,
     "metadata": {},
     "output_type": "execute_result"
    }
   ],
   "source": [
    "alchol_df['produce'].nunique()"
   ]
  },
  {
   "cell_type": "code",
   "execution_count": 40,
   "metadata": {},
   "outputs": [
    {
     "data": {
      "text/plain": [
       "120"
      ]
     },
     "execution_count": 40,
     "metadata": {},
     "output_type": "execute_result"
    }
   ],
   "source": [
    "alchol_df['supply'].nunique()"
   ]
  },
  {
   "cell_type": "code",
   "execution_count": 46,
   "metadata": {},
   "outputs": [],
   "source": [
    "alchol_df['percent'] = alchol_df['percent'].str.replace(\"%\", \"\").apply(pd.to_numeric)"
   ]
  },
  {
   "cell_type": "code",
   "execution_count": 47,
   "metadata": {},
   "outputs": [
    {
     "data": {
      "text/html": [
       "<div>\n",
       "<style scoped>\n",
       "    .dataframe tbody tr th:only-of-type {\n",
       "        vertical-align: middle;\n",
       "    }\n",
       "\n",
       "    .dataframe tbody tr th {\n",
       "        vertical-align: top;\n",
       "    }\n",
       "\n",
       "    .dataframe thead th {\n",
       "        text-align: right;\n",
       "    }\n",
       "</style>\n",
       "<table border=\"1\" class=\"dataframe\">\n",
       "  <thead>\n",
       "    <tr style=\"text-align: right;\">\n",
       "      <th></th>\n",
       "      <th>name</th>\n",
       "      <th>percent</th>\n",
       "      <th>class</th>\n",
       "      <th>category</th>\n",
       "      <th>produce</th>\n",
       "      <th>supply</th>\n",
       "      <th>img_url</th>\n",
       "    </tr>\n",
       "  </thead>\n",
       "  <tbody>\n",
       "    <tr>\n",
       "      <th>0</th>\n",
       "      <td>국향</td>\n",
       "      <td>13.0</td>\n",
       "      <td>청주</td>\n",
       "      <td>NaN</td>\n",
       "      <td>롯데칠성음료</td>\n",
       "      <td>롯데칠성음료 국내부문</td>\n",
       "      <td>https://cdn.veluga.kr/files/supplier/155/drink...</td>\n",
       "    </tr>\n",
       "    <tr>\n",
       "      <th>1</th>\n",
       "      <td>설화</td>\n",
       "      <td>14.0</td>\n",
       "      <td>청주</td>\n",
       "      <td>NaN</td>\n",
       "      <td>롯데칠성음료</td>\n",
       "      <td>롯데칠성음료 국내부문</td>\n",
       "      <td>https://cdn.veluga.kr/files/supplier/155/drink...</td>\n",
       "    </tr>\n",
       "    <tr>\n",
       "      <th>2</th>\n",
       "      <td>청하</td>\n",
       "      <td>13.0</td>\n",
       "      <td>청주</td>\n",
       "      <td>NaN</td>\n",
       "      <td>롯데칠성음료</td>\n",
       "      <td>롯데칠성음료 국내부문</td>\n",
       "      <td>https://cdn.veluga.kr/files/supplier/155/drink...</td>\n",
       "    </tr>\n",
       "    <tr>\n",
       "      <th>3</th>\n",
       "      <td>청하 드라이</td>\n",
       "      <td>13.5</td>\n",
       "      <td>청주</td>\n",
       "      <td>NaN</td>\n",
       "      <td>롯데칠성음료</td>\n",
       "      <td>롯데칠성음료 국내부문</td>\n",
       "      <td>https://cdn.veluga.kr/files/supplier/155/drink...</td>\n",
       "    </tr>\n",
       "    <tr>\n",
       "      <th>4</th>\n",
       "      <td>백화수복</td>\n",
       "      <td>13.0</td>\n",
       "      <td>청주</td>\n",
       "      <td>NaN</td>\n",
       "      <td>롯데칠성음료</td>\n",
       "      <td>롯데칠성음료 국내부문</td>\n",
       "      <td>https://cdn.veluga.kr/files/supplier/155/drink...</td>\n",
       "    </tr>\n",
       "    <tr>\n",
       "      <th>...</th>\n",
       "      <td>...</td>\n",
       "      <td>...</td>\n",
       "      <td>...</td>\n",
       "      <td>...</td>\n",
       "      <td>...</td>\n",
       "      <td>...</td>\n",
       "      <td>...</td>\n",
       "    </tr>\n",
       "    <tr>\n",
       "      <th>1329</th>\n",
       "      <td>오희 스파클링 막걸리</td>\n",
       "      <td>8.5</td>\n",
       "      <td>탁주</td>\n",
       "      <td>NaN</td>\n",
       "      <td>문경주조</td>\n",
       "      <td>부국상사</td>\n",
       "      <td>https://assets.business.veluga.kr/media/public...</td>\n",
       "    </tr>\n",
       "    <tr>\n",
       "      <th>1330</th>\n",
       "      <td>붉은 원숭이</td>\n",
       "      <td>10.8</td>\n",
       "      <td>탁주</td>\n",
       "      <td>NaN</td>\n",
       "      <td>농업회사법인 (주)술샘</td>\n",
       "      <td>부국상사</td>\n",
       "      <td>https://assets.business.veluga.kr/media/public...</td>\n",
       "    </tr>\n",
       "    <tr>\n",
       "      <th>1331</th>\n",
       "      <td>술취한 원숭이</td>\n",
       "      <td>10.8</td>\n",
       "      <td>탁주</td>\n",
       "      <td>NaN</td>\n",
       "      <td>농업회사법인 (주)술샘</td>\n",
       "      <td>부국상사</td>\n",
       "      <td>https://assets.business.veluga.kr/media/public...</td>\n",
       "    </tr>\n",
       "    <tr>\n",
       "      <th>1332</th>\n",
       "      <td>호땅</td>\n",
       "      <td>6.0</td>\n",
       "      <td>탁주</td>\n",
       "      <td>막걸리</td>\n",
       "      <td>배혜정도가</td>\n",
       "      <td>한국술유통</td>\n",
       "      <td>https://cdn.veluga.kr/files/supplier/temporary...</td>\n",
       "    </tr>\n",
       "    <tr>\n",
       "      <th>1333</th>\n",
       "      <td>메로니아</td>\n",
       "      <td>4.0</td>\n",
       "      <td>탁주</td>\n",
       "      <td>막걸리</td>\n",
       "      <td>배혜정도가</td>\n",
       "      <td>한국술유통</td>\n",
       "      <td>https://cdn.veluga.kr/files/supplier/temporary...</td>\n",
       "    </tr>\n",
       "  </tbody>\n",
       "</table>\n",
       "<p>1334 rows × 7 columns</p>\n",
       "</div>"
      ],
      "text/plain": [
       "             name  percent class category       produce       supply  \\\n",
       "0              국향     13.0    청주      NaN        롯데칠성음료  롯데칠성음료 국내부문   \n",
       "1              설화     14.0    청주      NaN        롯데칠성음료  롯데칠성음료 국내부문   \n",
       "2              청하     13.0    청주      NaN        롯데칠성음료  롯데칠성음료 국내부문   \n",
       "3          청하 드라이     13.5    청주      NaN        롯데칠성음료  롯데칠성음료 국내부문   \n",
       "4            백화수복     13.0    청주      NaN        롯데칠성음료  롯데칠성음료 국내부문   \n",
       "...           ...      ...   ...      ...           ...          ...   \n",
       "1329  오희 스파클링 막걸리      8.5    탁주      NaN          문경주조         부국상사   \n",
       "1330       붉은 원숭이     10.8    탁주      NaN  농업회사법인 (주)술샘         부국상사   \n",
       "1331      술취한 원숭이     10.8    탁주      NaN  농업회사법인 (주)술샘         부국상사   \n",
       "1332           호땅      6.0    탁주      막걸리         배혜정도가        한국술유통   \n",
       "1333         메로니아      4.0    탁주      막걸리         배혜정도가        한국술유통   \n",
       "\n",
       "                                                img_url  \n",
       "0     https://cdn.veluga.kr/files/supplier/155/drink...  \n",
       "1     https://cdn.veluga.kr/files/supplier/155/drink...  \n",
       "2     https://cdn.veluga.kr/files/supplier/155/drink...  \n",
       "3     https://cdn.veluga.kr/files/supplier/155/drink...  \n",
       "4     https://cdn.veluga.kr/files/supplier/155/drink...  \n",
       "...                                                 ...  \n",
       "1329  https://assets.business.veluga.kr/media/public...  \n",
       "1330  https://assets.business.veluga.kr/media/public...  \n",
       "1331  https://assets.business.veluga.kr/media/public...  \n",
       "1332  https://cdn.veluga.kr/files/supplier/temporary...  \n",
       "1333  https://cdn.veluga.kr/files/supplier/temporary...  \n",
       "\n",
       "[1334 rows x 7 columns]"
      ]
     },
     "execution_count": 47,
     "metadata": {},
     "output_type": "execute_result"
    }
   ],
   "source": [
    "alchol_df"
   ]
  },
  {
   "cell_type": "code",
   "execution_count": 55,
   "metadata": {},
   "outputs": [],
   "source": [
    "alchol_df['category'].fillna('No_category', inplace=True)"
   ]
  },
  {
   "cell_type": "code",
   "execution_count": 56,
   "metadata": {},
   "outputs": [
    {
     "data": {
      "text/plain": [
       "array(['No_category', '스피릿', '칵테일', '증류식', '사이더', '맥주', '기타', '윗비어',\n",
       "       '페일 라거', '라거', '스타우트', '사워', '임페리얼 스타우트', '와일드 에일', 'IPA', '필스너',\n",
       "       '더블 IPA', '페일 에일', '헬레스 라거', '고제', '메르첸', '벨지안 에일', '블론드 에일',\n",
       "       '트리펠', '람빅', '프루트 비어', '바이젠 복', '바이젠', '위트 비어', '두벨', '세종', '포터',\n",
       "       '발틱 포터', '벨지안 스트롱 에일', '임페리얼 IPA', '브라운 에일', '베를리너 바이세', '다크 IPA',\n",
       "       '세션 IPA', '위트 에일', '다크 라거', '골든 에일', '엠버 에일', '쿼드루펠', '라들러', '괴즈',\n",
       "       '잉글리시 스트롱 에일', '헤페 바이젠', '프루티드 람빅', '올드 에일', '쾰쉬', '아메리칸 스트롱 에일',\n",
       "       '발리 와인', '아이스 복', '도펠 복', '둥켈', '엠버 라거', '그리셋', '스모크 비어', '둥켈 바이젠',\n",
       "       '스카치 에일', '희석식', '막걸리'], dtype=object)"
      ]
     },
     "execution_count": 56,
     "metadata": {},
     "output_type": "execute_result"
    }
   ],
   "source": [
    "alchol_df['category'].unique()"
   ]
  },
  {
   "cell_type": "code",
   "execution_count": 59,
   "metadata": {},
   "outputs": [
    {
     "data": {
      "text/plain": [
       "array(['청주', '기타 주류', '전통 소주', '과실주', '논알콜', '수입 맥주', '국산 맥주', '일반 소주',\n",
       "       '탁주'], dtype=object)"
      ]
     },
     "execution_count": 59,
     "metadata": {},
     "output_type": "execute_result"
    }
   ],
   "source": [
    "alchol_df['class'].unique()"
   ]
  },
  {
   "cell_type": "code",
   "execution_count": 68,
   "metadata": {},
   "outputs": [
    {
     "data": {
      "text/html": [
       "<div>\n",
       "<style scoped>\n",
       "    .dataframe tbody tr th:only-of-type {\n",
       "        vertical-align: middle;\n",
       "    }\n",
       "\n",
       "    .dataframe tbody tr th {\n",
       "        vertical-align: top;\n",
       "    }\n",
       "\n",
       "    .dataframe thead th {\n",
       "        text-align: right;\n",
       "    }\n",
       "</style>\n",
       "<table border=\"1\" class=\"dataframe\">\n",
       "  <thead>\n",
       "    <tr style=\"text-align: right;\">\n",
       "      <th></th>\n",
       "      <th>percent</th>\n",
       "    </tr>\n",
       "  </thead>\n",
       "  <tbody>\n",
       "    <tr>\n",
       "      <th>count</th>\n",
       "      <td>1334.000000</td>\n",
       "    </tr>\n",
       "    <tr>\n",
       "      <th>mean</th>\n",
       "      <td>12.200975</td>\n",
       "    </tr>\n",
       "    <tr>\n",
       "      <th>std</th>\n",
       "      <td>11.225875</td>\n",
       "    </tr>\n",
       "    <tr>\n",
       "      <th>min</th>\n",
       "      <td>0.000000</td>\n",
       "    </tr>\n",
       "    <tr>\n",
       "      <th>25%</th>\n",
       "      <td>5.200000</td>\n",
       "    </tr>\n",
       "    <tr>\n",
       "      <th>50%</th>\n",
       "      <td>7.250000</td>\n",
       "    </tr>\n",
       "    <tr>\n",
       "      <th>75%</th>\n",
       "      <td>13.875000</td>\n",
       "    </tr>\n",
       "    <tr>\n",
       "      <th>max</th>\n",
       "      <td>75.500000</td>\n",
       "    </tr>\n",
       "  </tbody>\n",
       "</table>\n",
       "</div>"
      ],
      "text/plain": [
       "           percent\n",
       "count  1334.000000\n",
       "mean     12.200975\n",
       "std      11.225875\n",
       "min       0.000000\n",
       "25%       5.200000\n",
       "50%       7.250000\n",
       "75%      13.875000\n",
       "max      75.500000"
      ]
     },
     "execution_count": 68,
     "metadata": {},
     "output_type": "execute_result"
    }
   ],
   "source": [
    "alchol_df.describe()"
   ]
  },
  {
   "cell_type": "code",
   "execution_count": 81,
   "metadata": {},
   "outputs": [
    {
     "data": {
      "text/html": [
       "<div>\n",
       "<style scoped>\n",
       "    .dataframe tbody tr th:only-of-type {\n",
       "        vertical-align: middle;\n",
       "    }\n",
       "\n",
       "    .dataframe tbody tr th {\n",
       "        vertical-align: top;\n",
       "    }\n",
       "\n",
       "    .dataframe thead th {\n",
       "        text-align: right;\n",
       "    }\n",
       "</style>\n",
       "<table border=\"1\" class=\"dataframe\">\n",
       "  <thead>\n",
       "    <tr style=\"text-align: right;\">\n",
       "      <th></th>\n",
       "      <th>name</th>\n",
       "      <th>percent</th>\n",
       "      <th>class</th>\n",
       "      <th>category</th>\n",
       "      <th>produce</th>\n",
       "      <th>supply</th>\n",
       "      <th>img_url</th>\n",
       "    </tr>\n",
       "  </thead>\n",
       "  <tbody>\n",
       "    <tr>\n",
       "      <th>40</th>\n",
       "      <td>론 코리나 151 럼</td>\n",
       "      <td>75.5</td>\n",
       "      <td>기타 주류</td>\n",
       "      <td>No_category</td>\n",
       "      <td>시파러 임포트 컴퍼니</td>\n",
       "      <td>(주)비이엑스스피리츠코리아</td>\n",
       "      <td>https://assets.business.veluga.kr/media/public...</td>\n",
       "    </tr>\n",
       "    <tr>\n",
       "      <th>111</th>\n",
       "      <td>플랜테이션 오에프티디</td>\n",
       "      <td>69.0</td>\n",
       "      <td>기타 주류</td>\n",
       "      <td>스피릿</td>\n",
       "      <td>메종 페랑</td>\n",
       "      <td>인덜지 (주)</td>\n",
       "      <td>https://assets.business.veluga.kr/media/public...</td>\n",
       "    </tr>\n",
       "    <tr>\n",
       "      <th>229</th>\n",
       "      <td>대복홍주 진 15호</td>\n",
       "      <td>60.0</td>\n",
       "      <td>전통 소주</td>\n",
       "      <td>No_category</td>\n",
       "      <td>진도홍주</td>\n",
       "      <td>부국상사</td>\n",
       "      <td>https://assets.business.veluga.kr/media/public...</td>\n",
       "    </tr>\n",
       "    <tr>\n",
       "      <th>290</th>\n",
       "      <td>미르 54</td>\n",
       "      <td>54.0</td>\n",
       "      <td>전통 소주</td>\n",
       "      <td>No_category</td>\n",
       "      <td>농업회사법인 (주)술샘</td>\n",
       "      <td>부국상사</td>\n",
       "      <td>https://assets.business.veluga.kr/media/public...</td>\n",
       "    </tr>\n",
       "    <tr>\n",
       "      <th>1250</th>\n",
       "      <td>화요 53</td>\n",
       "      <td>53.0</td>\n",
       "      <td>일반 소주</td>\n",
       "      <td>증류식</td>\n",
       "      <td>화요</td>\n",
       "      <td>주식회사 화요</td>\n",
       "      <td>https://cdn.veluga.kr/files/supplier/216/drink...</td>\n",
       "    </tr>\n",
       "    <tr>\n",
       "      <th>...</th>\n",
       "      <td>...</td>\n",
       "      <td>...</td>\n",
       "      <td>...</td>\n",
       "      <td>...</td>\n",
       "      <td>...</td>\n",
       "      <td>...</td>\n",
       "      <td>...</td>\n",
       "    </tr>\n",
       "    <tr>\n",
       "      <th>450</th>\n",
       "      <td>쎄시 시드르 바이오 논알콜 0.0%</td>\n",
       "      <td>0.0</td>\n",
       "      <td>논알콜</td>\n",
       "      <td>기타</td>\n",
       "      <td>샤또 드 쎄시</td>\n",
       "      <td>주식회사 테이스트버드</td>\n",
       "      <td>https://cdn.veluga.kr/files/supplier/75/drinks...</td>\n",
       "    </tr>\n",
       "    <tr>\n",
       "      <th>449</th>\n",
       "      <td>보테가 스파클링 제로 화이트</td>\n",
       "      <td>0.0</td>\n",
       "      <td>논알콜</td>\n",
       "      <td>기타</td>\n",
       "      <td>보테가 비나이</td>\n",
       "      <td>더바인컴퍼니</td>\n",
       "      <td>https://cdn.veluga.kr/files/supplier/119/drink...</td>\n",
       "    </tr>\n",
       "    <tr>\n",
       "      <th>446</th>\n",
       "      <td>하이네켄 0.0</td>\n",
       "      <td>0.0</td>\n",
       "      <td>논알콜</td>\n",
       "      <td>맥주</td>\n",
       "      <td>하이네켄 네덜란드 서플라이</td>\n",
       "      <td>하이네켄코리아 주식회사</td>\n",
       "      <td>https://cdn.veluga.kr/drinks/0/main/dbf384e49e...</td>\n",
       "    </tr>\n",
       "    <tr>\n",
       "      <th>452</th>\n",
       "      <td>그롤쉬 넌알콜</td>\n",
       "      <td>0.0</td>\n",
       "      <td>논알콜</td>\n",
       "      <td>기타</td>\n",
       "      <td>GROLSCHE BIERBROUWERIJ NEDERLAND B.V.</td>\n",
       "      <td>에이이브랜드코리아 유한회사</td>\n",
       "      <td>https://cdn.veluga.kr/files/supplier/307/drink...</td>\n",
       "    </tr>\n",
       "    <tr>\n",
       "      <th>448</th>\n",
       "      <td>초야 논알콜 요와나이 유즈슈</td>\n",
       "      <td>0.0</td>\n",
       "      <td>논알콜</td>\n",
       "      <td>기타</td>\n",
       "      <td>쵸야</td>\n",
       "      <td>주식회사 가주유통</td>\n",
       "      <td>https://cdn.veluga.kr/files/supplier/62/drinks...</td>\n",
       "    </tr>\n",
       "  </tbody>\n",
       "</table>\n",
       "<p>1334 rows × 7 columns</p>\n",
       "</div>"
      ],
      "text/plain": [
       "                     name  percent  class     category  \\\n",
       "40            론 코리나 151 럼     75.5  기타 주류  No_category   \n",
       "111           플랜테이션 오에프티디     69.0  기타 주류          스피릿   \n",
       "229            대복홍주 진 15호     60.0  전통 소주  No_category   \n",
       "290                 미르 54     54.0  전통 소주  No_category   \n",
       "1250                화요 53     53.0  일반 소주          증류식   \n",
       "...                   ...      ...    ...          ...   \n",
       "450   쎄시 시드르 바이오 논알콜 0.0%      0.0    논알콜           기타   \n",
       "449       보테가 스파클링 제로 화이트      0.0    논알콜           기타   \n",
       "446              하이네켄 0.0      0.0    논알콜           맥주   \n",
       "452               그롤쉬 넌알콜      0.0    논알콜           기타   \n",
       "448       초야 논알콜 요와나이 유즈슈      0.0    논알콜           기타   \n",
       "\n",
       "                                    produce          supply  \\\n",
       "40                              시파러 임포트 컴퍼니  (주)비이엑스스피리츠코리아   \n",
       "111                                   메종 페랑         인덜지 (주)   \n",
       "229                                    진도홍주            부국상사   \n",
       "290                            농업회사법인 (주)술샘            부국상사   \n",
       "1250                                     화요         주식회사 화요   \n",
       "...                                     ...             ...   \n",
       "450                                 샤또 드 쎄시     주식회사 테이스트버드   \n",
       "449                                 보테가 비나이          더바인컴퍼니   \n",
       "446                          하이네켄 네덜란드 서플라이    하이네켄코리아 주식회사   \n",
       "452   GROLSCHE BIERBROUWERIJ NEDERLAND B.V.  에이이브랜드코리아 유한회사   \n",
       "448                                      쵸야       주식회사 가주유통   \n",
       "\n",
       "                                                img_url  \n",
       "40    https://assets.business.veluga.kr/media/public...  \n",
       "111   https://assets.business.veluga.kr/media/public...  \n",
       "229   https://assets.business.veluga.kr/media/public...  \n",
       "290   https://assets.business.veluga.kr/media/public...  \n",
       "1250  https://cdn.veluga.kr/files/supplier/216/drink...  \n",
       "...                                                 ...  \n",
       "450   https://cdn.veluga.kr/files/supplier/75/drinks...  \n",
       "449   https://cdn.veluga.kr/files/supplier/119/drink...  \n",
       "446   https://cdn.veluga.kr/drinks/0/main/dbf384e49e...  \n",
       "452   https://cdn.veluga.kr/files/supplier/307/drink...  \n",
       "448   https://cdn.veluga.kr/files/supplier/62/drinks...  \n",
       "\n",
       "[1334 rows x 7 columns]"
      ]
     },
     "execution_count": 81,
     "metadata": {},
     "output_type": "execute_result"
    }
   ],
   "source": [
    "alchol_df.sort_values('percent',ascending= False)"
   ]
  },
  {
   "cell_type": "code",
   "execution_count": 102,
   "metadata": {},
   "outputs": [],
   "source": [
    "base_color = sb.color_palette()[2]\n",
    "base_order = alchol_df['class'].value_counts().index\n"
   ]
  },
  {
   "cell_type": "code",
   "execution_count": 106,
   "metadata": {},
   "outputs": [
    {
     "data": {
      "image/png": "[encoded data removed]",
      "text/plain": [
       "<Figure size 640x480 with 1 Axes>"
      ]
     },
     "metadata": {},
     "output_type": "display_data"
    }
   ],
   "source": [
    "sb.countplot(alchol_df, y= 'class', color=base_color ,order = base_order)\n",
    "plt.title('주류 종류')\n",
    "plt.show()"
   ]
  },
  {
   "cell_type": "code",
   "execution_count": 110,
   "metadata": {},
   "outputs": [
    {
     "data": {
      "text/plain": [
       "array(['No_category', '스피릿', '칵테일', '증류식', '사이더', '맥주', '기타', '윗비어',\n",
       "       '페일 라거', '라거', '스타우트', '사워', '임페리얼 스타우트', '와일드 에일', 'IPA', '필스너',\n",
       "       '더블 IPA', '페일 에일', '헬레스 라거', '고제', '메르첸', '벨지안 에일', '블론드 에일',\n",
       "       '트리펠', '람빅', '프루트 비어', '바이젠 복', '바이젠', '위트 비어', '두벨', '세종', '포터',\n",
       "       '발틱 포터', '벨지안 스트롱 에일', '임페리얼 IPA', '브라운 에일', '베를리너 바이세', '다크 IPA',\n",
       "       '세션 IPA', '위트 에일', '다크 라거', '골든 에일', '엠버 에일', '쿼드루펠', '라들러', '괴즈',\n",
       "       '잉글리시 스트롱 에일', '헤페 바이젠', '프루티드 람빅', '올드 에일', '쾰쉬', '아메리칸 스트롱 에일',\n",
       "       '발리 와인', '아이스 복', '도펠 복', '둥켈', '엠버 라거', '그리셋', '스모크 비어', '둥켈 바이젠',\n",
       "       '스카치 에일', '희석식', '막걸리'], dtype=object)"
      ]
     },
     "execution_count": 110,
     "metadata": {},
     "output_type": "execute_result"
    }
   ],
   "source": [
    "alchol_df['category'].unique() "
   ]
  },
  {
   "cell_type": "code",
   "execution_count": 112,
   "metadata": {},
   "outputs": [
    {
     "data": {
      "text/plain": [
       "category\n",
       "No_category    435\n",
       "IPA             93\n",
       "라거              68\n",
       "사이더             59\n",
       "와일드 에일          51\n",
       "              ... \n",
       "아메리칸 스트롱 에일      1\n",
       "그리셋              1\n",
       "둥켈 바이젠           1\n",
       "스모크 비어           1\n",
       "발틱 포터            1\n",
       "Length: 63, dtype: int64"
      ]
     },
     "execution_count": 112,
     "metadata": {},
     "output_type": "execute_result"
    }
   ],
   "source": [
    "alchol_df.value_counts('category')"
   ]
  },
  {
   "cell_type": "code",
   "execution_count": 141,
   "metadata": {},
   "outputs": [
    {
     "data": {
      "text/plain": [
       "class\n",
       "전통 소주    30.787097\n",
       "기타 주류    25.212707\n",
       "일반 소주    22.808889\n",
       "청주       14.125000\n",
       "탁주        8.722034\n",
       "과실주       8.624800\n",
       "수입 맥주     6.740757\n",
       "국산 맥주     5.257778\n",
       "논알콜       0.209091\n",
       "Name: percent, dtype: float64"
      ]
     },
     "execution_count": 141,
     "metadata": {},
     "output_type": "execute_result"
    }
   ],
   "source": [
    "# 클래스별 주류 도수 평균\n",
    "alchol_df.groupby('class')['percent'].mean().sort_values(ascending= False)"
   ]
  },
  {
   "cell_type": "code",
   "execution_count": 140,
   "metadata": {},
   "outputs": [
    {
     "data": {
      "text/plain": [
       "produce\n",
       "시파러 임포트 컴퍼니      75.50\n",
       "전통주조 예술          53.00\n",
       "진도홍주             50.00\n",
       "메종 페랑            48.25\n",
       "베리 브로스 앤 러드      45.00\n",
       "                 ...  \n",
       "라데베르거 브루잉 컴퍼니     2.50\n",
       "Egger             2.35\n",
       "주식회사 부족한녀석들       0.50\n",
       "빅드롭               0.50\n",
       "보테가 비나이           0.00\n",
       "Name: percent, Length: 382, dtype: float64"
      ]
     },
     "execution_count": 140,
     "metadata": {},
     "output_type": "execute_result"
    }
   ],
   "source": [
    "# 제조사별 도수 평균\n",
    "alchol_df.groupby('produce')['percent'].mean().sort_values(ascending=False)"
   ]
  },
  {
   "cell_type": "code",
   "execution_count": 135,
   "metadata": {},
   "outputs": [
    {
     "data": {
      "text/html": [
       "<div>\n",
       "<style scoped>\n",
       "    .dataframe tbody tr th:only-of-type {\n",
       "        vertical-align: middle;\n",
       "    }\n",
       "\n",
       "    .dataframe tbody tr th {\n",
       "        vertical-align: top;\n",
       "    }\n",
       "\n",
       "    .dataframe thead th {\n",
       "        text-align: right;\n",
       "    }\n",
       "</style>\n",
       "<table border=\"1\" class=\"dataframe\">\n",
       "  <thead>\n",
       "    <tr style=\"text-align: right;\">\n",
       "      <th></th>\n",
       "      <th>name</th>\n",
       "      <th>percent</th>\n",
       "      <th>class</th>\n",
       "      <th>category</th>\n",
       "      <th>produce</th>\n",
       "      <th>supply</th>\n",
       "      <th>img_url</th>\n",
       "    </tr>\n",
       "  </thead>\n",
       "  <tbody>\n",
       "    <tr>\n",
       "      <th>40</th>\n",
       "      <td>론 코리나 151 럼</td>\n",
       "      <td>75.5</td>\n",
       "      <td>기타 주류</td>\n",
       "      <td>No_category</td>\n",
       "      <td>시파러 임포트 컴퍼니</td>\n",
       "      <td>(주)비이엑스스피리츠코리아</td>\n",
       "      <td>https://assets.business.veluga.kr/media/public...</td>\n",
       "    </tr>\n",
       "  </tbody>\n",
       "</table>\n",
       "</div>"
      ],
      "text/plain": [
       "           name  percent  class     category      produce          supply  \\\n",
       "40  론 코리나 151 럼     75.5  기타 주류  No_category  시파러 임포트 컴퍼니  (주)비이엑스스피리츠코리아   \n",
       "\n",
       "                                              img_url  \n",
       "40  https://assets.business.veluga.kr/media/public...  "
      ]
     },
     "execution_count": 135,
     "metadata": {},
     "output_type": "execute_result"
    }
   ],
   "source": [
    "# 도수가 가장 높은 술과 가장 낮은 술\n",
    "alchol_df[alchol_df['percent'] == alchol_df['percent'].max()]"
   ]
  },
  {
   "cell_type": "code",
   "execution_count": 136,
   "metadata": {},
   "outputs": [
    {
     "data": {
      "text/html": [
       "<div>\n",
       "<style scoped>\n",
       "    .dataframe tbody tr th:only-of-type {\n",
       "        vertical-align: middle;\n",
       "    }\n",
       "\n",
       "    .dataframe tbody tr th {\n",
       "        vertical-align: top;\n",
       "    }\n",
       "\n",
       "    .dataframe thead th {\n",
       "        text-align: right;\n",
       "    }\n",
       "</style>\n",
       "<table border=\"1\" class=\"dataframe\">\n",
       "  <thead>\n",
       "    <tr style=\"text-align: right;\">\n",
       "      <th></th>\n",
       "      <th>name</th>\n",
       "      <th>percent</th>\n",
       "      <th>class</th>\n",
       "      <th>category</th>\n",
       "      <th>produce</th>\n",
       "      <th>supply</th>\n",
       "      <th>img_url</th>\n",
       "    </tr>\n",
       "  </thead>\n",
       "  <tbody>\n",
       "    <tr>\n",
       "      <th>446</th>\n",
       "      <td>하이네켄 0.0</td>\n",
       "      <td>0.0</td>\n",
       "      <td>논알콜</td>\n",
       "      <td>맥주</td>\n",
       "      <td>하이네켄 네덜란드 서플라이</td>\n",
       "      <td>하이네켄코리아 주식회사</td>\n",
       "      <td>https://cdn.veluga.kr/drinks/0/main/dbf384e49e...</td>\n",
       "    </tr>\n",
       "    <tr>\n",
       "      <th>448</th>\n",
       "      <td>초야 논알콜 요와나이 유즈슈</td>\n",
       "      <td>0.0</td>\n",
       "      <td>논알콜</td>\n",
       "      <td>기타</td>\n",
       "      <td>쵸야</td>\n",
       "      <td>주식회사 가주유통</td>\n",
       "      <td>https://cdn.veluga.kr/files/supplier/62/drinks...</td>\n",
       "    </tr>\n",
       "    <tr>\n",
       "      <th>449</th>\n",
       "      <td>보테가 스파클링 제로 화이트</td>\n",
       "      <td>0.0</td>\n",
       "      <td>논알콜</td>\n",
       "      <td>기타</td>\n",
       "      <td>보테가 비나이</td>\n",
       "      <td>더바인컴퍼니</td>\n",
       "      <td>https://cdn.veluga.kr/files/supplier/119/drink...</td>\n",
       "    </tr>\n",
       "    <tr>\n",
       "      <th>450</th>\n",
       "      <td>쎄시 시드르 바이오 논알콜 0.0%</td>\n",
       "      <td>0.0</td>\n",
       "      <td>논알콜</td>\n",
       "      <td>기타</td>\n",
       "      <td>샤또 드 쎄시</td>\n",
       "      <td>주식회사 테이스트버드</td>\n",
       "      <td>https://cdn.veluga.kr/files/supplier/75/drinks...</td>\n",
       "    </tr>\n",
       "    <tr>\n",
       "      <th>451</th>\n",
       "      <td>카스 제로</td>\n",
       "      <td>0.0</td>\n",
       "      <td>논알콜</td>\n",
       "      <td>기타</td>\n",
       "      <td>오비맥주 주식회사</td>\n",
       "      <td>오비맥주 주식회사</td>\n",
       "      <td>https://cdn.veluga.kr/files/supplier/103/drink...</td>\n",
       "    </tr>\n",
       "    <tr>\n",
       "      <th>452</th>\n",
       "      <td>그롤쉬 넌알콜</td>\n",
       "      <td>0.0</td>\n",
       "      <td>논알콜</td>\n",
       "      <td>기타</td>\n",
       "      <td>GROLSCHE BIERBROUWERIJ NEDERLAND B.V.</td>\n",
       "      <td>에이이브랜드코리아 유한회사</td>\n",
       "      <td>https://cdn.veluga.kr/files/supplier/307/drink...</td>\n",
       "    </tr>\n",
       "  </tbody>\n",
       "</table>\n",
       "</div>"
      ],
      "text/plain": [
       "                    name  percent class category  \\\n",
       "446             하이네켄 0.0      0.0   논알콜       맥주   \n",
       "448      초야 논알콜 요와나이 유즈슈      0.0   논알콜       기타   \n",
       "449      보테가 스파클링 제로 화이트      0.0   논알콜       기타   \n",
       "450  쎄시 시드르 바이오 논알콜 0.0%      0.0   논알콜       기타   \n",
       "451                카스 제로      0.0   논알콜       기타   \n",
       "452              그롤쉬 넌알콜      0.0   논알콜       기타   \n",
       "\n",
       "                                   produce          supply  \\\n",
       "446                         하이네켄 네덜란드 서플라이    하이네켄코리아 주식회사   \n",
       "448                                     쵸야       주식회사 가주유통   \n",
       "449                                보테가 비나이          더바인컴퍼니   \n",
       "450                                샤또 드 쎄시     주식회사 테이스트버드   \n",
       "451                              오비맥주 주식회사       오비맥주 주식회사   \n",
       "452  GROLSCHE BIERBROUWERIJ NEDERLAND B.V.  에이이브랜드코리아 유한회사   \n",
       "\n",
       "                                               img_url  \n",
       "446  https://cdn.veluga.kr/drinks/0/main/dbf384e49e...  \n",
       "448  https://cdn.veluga.kr/files/supplier/62/drinks...  \n",
       "449  https://cdn.veluga.kr/files/supplier/119/drink...  \n",
       "450  https://cdn.veluga.kr/files/supplier/75/drinks...  \n",
       "451  https://cdn.veluga.kr/files/supplier/103/drink...  \n",
       "452  https://cdn.veluga.kr/files/supplier/307/drink...  "
      ]
     },
     "execution_count": 136,
     "metadata": {},
     "output_type": "execute_result"
    }
   ],
   "source": [
    "alchol_df[alchol_df['percent'] == alchol_df['percent'].min()]"
   ]
  },
  {
   "cell_type": "code",
   "execution_count": 151,
   "metadata": {},
   "outputs": [
    {
     "data": {
      "text/html": [
       "<div>\n",
       "<style scoped>\n",
       "    .dataframe tbody tr th:only-of-type {\n",
       "        vertical-align: middle;\n",
       "    }\n",
       "\n",
       "    .dataframe tbody tr th {\n",
       "        vertical-align: top;\n",
       "    }\n",
       "\n",
       "    .dataframe thead th {\n",
       "        text-align: right;\n",
       "    }\n",
       "</style>\n",
       "<table border=\"1\" class=\"dataframe\">\n",
       "  <thead>\n",
       "    <tr style=\"text-align: right;\">\n",
       "      <th></th>\n",
       "      <th>max</th>\n",
       "      <th>min</th>\n",
       "      <th>mean</th>\n",
       "    </tr>\n",
       "    <tr>\n",
       "      <th>produce</th>\n",
       "      <th></th>\n",
       "      <th></th>\n",
       "      <th></th>\n",
       "    </tr>\n",
       "  </thead>\n",
       "  <tbody>\n",
       "    <tr>\n",
       "      <th>시파러 임포트 컴퍼니</th>\n",
       "      <td>75.5</td>\n",
       "      <td>75.5</td>\n",
       "      <td>75.50</td>\n",
       "    </tr>\n",
       "    <tr>\n",
       "      <th>전통주조 예술</th>\n",
       "      <td>53.0</td>\n",
       "      <td>53.0</td>\n",
       "      <td>53.00</td>\n",
       "    </tr>\n",
       "    <tr>\n",
       "      <th>진도홍주</th>\n",
       "      <td>60.0</td>\n",
       "      <td>40.0</td>\n",
       "      <td>50.00</td>\n",
       "    </tr>\n",
       "    <tr>\n",
       "      <th>메종 페랑</th>\n",
       "      <td>69.0</td>\n",
       "      <td>40.0</td>\n",
       "      <td>48.25</td>\n",
       "    </tr>\n",
       "    <tr>\n",
       "      <th>베리 브로스 앤 러드</th>\n",
       "      <td>45.0</td>\n",
       "      <td>45.0</td>\n",
       "      <td>45.00</td>\n",
       "    </tr>\n",
       "    <tr>\n",
       "      <th>...</th>\n",
       "      <td>...</td>\n",
       "      <td>...</td>\n",
       "      <td>...</td>\n",
       "    </tr>\n",
       "    <tr>\n",
       "      <th>라데베르거 브루잉 컴퍼니</th>\n",
       "      <td>2.5</td>\n",
       "      <td>2.5</td>\n",
       "      <td>2.50</td>\n",
       "    </tr>\n",
       "    <tr>\n",
       "      <th>Egger</th>\n",
       "      <td>2.5</td>\n",
       "      <td>2.2</td>\n",
       "      <td>2.35</td>\n",
       "    </tr>\n",
       "    <tr>\n",
       "      <th>주식회사 부족한녀석들</th>\n",
       "      <td>0.5</td>\n",
       "      <td>0.5</td>\n",
       "      <td>0.50</td>\n",
       "    </tr>\n",
       "    <tr>\n",
       "      <th>빅드롭</th>\n",
       "      <td>0.5</td>\n",
       "      <td>0.5</td>\n",
       "      <td>0.50</td>\n",
       "    </tr>\n",
       "    <tr>\n",
       "      <th>보테가 비나이</th>\n",
       "      <td>0.0</td>\n",
       "      <td>0.0</td>\n",
       "      <td>0.00</td>\n",
       "    </tr>\n",
       "  </tbody>\n",
       "</table>\n",
       "<p>382 rows × 3 columns</p>\n",
       "</div>"
      ],
      "text/plain": [
       "                max   min   mean\n",
       "produce                         \n",
       "시파러 임포트 컴퍼니    75.5  75.5  75.50\n",
       "전통주조 예술        53.0  53.0  53.00\n",
       "진도홍주           60.0  40.0  50.00\n",
       "메종 페랑          69.0  40.0  48.25\n",
       "베리 브로스 앤 러드    45.0  45.0  45.00\n",
       "...             ...   ...    ...\n",
       "라데베르거 브루잉 컴퍼니   2.5   2.5   2.50\n",
       "Egger           2.5   2.2   2.35\n",
       "주식회사 부족한녀석들     0.5   0.5   0.50\n",
       "빅드롭             0.5   0.5   0.50\n",
       "보테가 비나이         0.0   0.0   0.00\n",
       "\n",
       "[382 rows x 3 columns]"
      ]
     },
     "execution_count": 151,
     "metadata": {},
     "output_type": "execute_result"
    }
   ],
   "source": [
    "# 제조사별 도수가 가장 높은술과 가장 낮은 술, 평균 값\n",
    "alchol_df.groupby('produce')['percent'].agg(['max', 'min', 'mean']).sort_values('mean', ascending=False)"
   ]
  },
  {
   "cell_type": "code",
   "execution_count": 158,
   "metadata": {},
   "outputs": [
    {
     "data": {
      "text/html": [
       "<div>\n",
       "<style scoped>\n",
       "    .dataframe tbody tr th:only-of-type {\n",
       "        vertical-align: middle;\n",
       "    }\n",
       "\n",
       "    .dataframe tbody tr th {\n",
       "        vertical-align: top;\n",
       "    }\n",
       "\n",
       "    .dataframe thead th {\n",
       "        text-align: right;\n",
       "    }\n",
       "</style>\n",
       "<table border=\"1\" class=\"dataframe\">\n",
       "  <thead>\n",
       "    <tr style=\"text-align: right;\">\n",
       "      <th></th>\n",
       "      <th>max</th>\n",
       "      <th>min</th>\n",
       "      <th>mean</th>\n",
       "    </tr>\n",
       "    <tr>\n",
       "      <th>class</th>\n",
       "      <th></th>\n",
       "      <th></th>\n",
       "      <th></th>\n",
       "    </tr>\n",
       "  </thead>\n",
       "  <tbody>\n",
       "    <tr>\n",
       "      <th>전통 소주</th>\n",
       "      <td>60.0</td>\n",
       "      <td>12.0</td>\n",
       "      <td>30.787097</td>\n",
       "    </tr>\n",
       "    <tr>\n",
       "      <th>기타 주류</th>\n",
       "      <td>75.5</td>\n",
       "      <td>3.0</td>\n",
       "      <td>25.212707</td>\n",
       "    </tr>\n",
       "    <tr>\n",
       "      <th>일반 소주</th>\n",
       "      <td>53.0</td>\n",
       "      <td>16.0</td>\n",
       "      <td>22.808889</td>\n",
       "    </tr>\n",
       "    <tr>\n",
       "      <th>청주</th>\n",
       "      <td>16.0</td>\n",
       "      <td>13.0</td>\n",
       "      <td>14.125000</td>\n",
       "    </tr>\n",
       "    <tr>\n",
       "      <th>탁주</th>\n",
       "      <td>19.0</td>\n",
       "      <td>4.0</td>\n",
       "      <td>8.722034</td>\n",
       "    </tr>\n",
       "    <tr>\n",
       "      <th>과실주</th>\n",
       "      <td>40.0</td>\n",
       "      <td>0.5</td>\n",
       "      <td>8.624800</td>\n",
       "    </tr>\n",
       "    <tr>\n",
       "      <th>수입 맥주</th>\n",
       "      <td>15.0</td>\n",
       "      <td>2.2</td>\n",
       "      <td>6.740757</td>\n",
       "    </tr>\n",
       "    <tr>\n",
       "      <th>국산 맥주</th>\n",
       "      <td>13.5</td>\n",
       "      <td>2.5</td>\n",
       "      <td>5.257778</td>\n",
       "    </tr>\n",
       "    <tr>\n",
       "      <th>논알콜</th>\n",
       "      <td>0.5</td>\n",
       "      <td>0.0</td>\n",
       "      <td>0.209091</td>\n",
       "    </tr>\n",
       "  </tbody>\n",
       "</table>\n",
       "</div>"
      ],
      "text/plain": [
       "        max   min       mean\n",
       "class                       \n",
       "전통 소주  60.0  12.0  30.787097\n",
       "기타 주류  75.5   3.0  25.212707\n",
       "일반 소주  53.0  16.0  22.808889\n",
       "청주     16.0  13.0  14.125000\n",
       "탁주     19.0   4.0   8.722034\n",
       "과실주    40.0   0.5   8.624800\n",
       "수입 맥주  15.0   2.2   6.740757\n",
       "국산 맥주  13.5   2.5   5.257778\n",
       "논알콜     0.5   0.0   0.209091"
      ]
     },
     "execution_count": 158,
     "metadata": {},
     "output_type": "execute_result"
    }
   ],
   "source": [
    "# class별 도수가 가장 높은 술과 낮은술 ,평균값\n",
    "alchol_df.groupby('class')['percent'].agg(['max', 'min', 'mean']).sort_values('mean', ascending= False)"
   ]
  },
  {
   "cell_type": "code",
   "execution_count": 168,
   "metadata": {},
   "outputs": [
    {
     "data": {
      "text/plain": [
       "class\n",
       "과실주      40.0\n",
       "국산 맥주    13.5\n",
       "기타 주류    75.5\n",
       "논알콜       0.5\n",
       "수입 맥주    15.0\n",
       "일반 소주    53.0\n",
       "전통 소주    60.0\n",
       "청주       16.0\n",
       "탁주       19.0\n",
       "Name: percent, dtype: float64"
      ]
     },
     "execution_count": 168,
     "metadata": {},
     "output_type": "execute_result"
    }
   ],
   "source": [
    "alchol_df.groupby('class')['percent'].max()"
   ]
  },
  {
   "cell_type": "code",
   "execution_count": 166,
   "metadata": {},
   "outputs": [
    {
     "data": {
      "text/plain": [
       "386     과실주\n",
       "350     과실주\n",
       "351     과실주\n",
       "352     과실주\n",
       "353     과실주\n",
       "       ... \n",
       "1299     탁주\n",
       "1300     탁주\n",
       "1301     탁주\n",
       "1303     탁주\n",
       "1333     탁주\n",
       "Name: class, Length: 1334, dtype: object"
      ]
     },
     "execution_count": 166,
     "metadata": {},
     "output_type": "execute_result"
    }
   ],
   "source": []
  },
  {
   "cell_type": "code",
   "execution_count": null,
   "metadata": {},
   "outputs": [],
   "source": []
  }
 ],
 "metadata": {
  "kernelspec": {
   "display_name": "lambda39",
   "language": "python",
   "name": "python3"
  },
  "language_info": {
   "codemirror_mode": {
    "name": "ipython",
    "version": 3
   },
   "file_extension": ".py",
   "mimetype": "text/x-python",
   "name": "python",
   "nbconvert_exporter": "python",
   "pygments_lexer": "ipython3",
   "version": "3.9.15"
  },
  "orig_nbformat": 4
 },
 "nbformat": 4,
 "nbformat_minor": 2
}
