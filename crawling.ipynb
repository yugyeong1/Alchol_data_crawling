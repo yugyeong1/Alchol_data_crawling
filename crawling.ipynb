{
 "cells": [
  {
   "cell_type": "code",
   "execution_count": 6,
   "metadata": {},
   "outputs": [],
   "source": [
    "from selenium import webdriver\n",
    "import time\n",
    "import pandas as pd\n",
    "from selenium.webdriver.common.by import By\n",
    "import numpy as np"
   ]
  },
  {
   "cell_type": "code",
   "execution_count": 9,
   "metadata": {},
   "outputs": [],
   "source": [
    "def Crawling(driver, page, type, url_xpath, df_alchol, i):\n",
    "    url = 'https://business.veluga.kr/search/result/?page=' + str(page) + '&drink_type_id=' + str(type)\n",
    "    driver.get(url)\n",
    "    click = driver.find_element(By.XPATH, url_xpath)\n",
    "    driver.execute_script(\"arguments[0].click();\", click)\n",
    "    time.sleep(3)\n",
    "    image_element = driver.find_elements(By.XPATH,'//*[@id=\"__next\"]/div/div/div[1]/img')[0]\n",
    "    image_td = image_element.get_attribute('src')\n",
    "\n",
    "    name =  driver.find_element(By.XPATH,'//*[@id=\"__next\"]/div/div/div[2]/div[1]/h1').text\n",
    "    \n",
    "    percent =  driver.find_element(By.XPATH,\"//th[contains(text(), '도수')]\")\n",
    "    percent_td = percent.find_element(By.XPATH,\"following-sibling::td\").text\n",
    "\n",
    "    category =  driver.find_element(By.XPATH,\"//th[contains(text(), '스타일')]\")\n",
    "    category_td = category.find_element(By.XPATH,\"following-sibling::td\").text\n",
    "\n",
    "    produce =  driver.find_element(By.XPATH,\"//th[contains(text(), '제조사')]\")\n",
    "    produce_td = produce.find_element(By.XPATH,\"following-sibling::td\").text\n",
    "\n",
    "    supply = driver.find_element(By.XPATH,\"//th[contains(text(), '공급사')]\")\n",
    "    supply_td = supply.find_element(By.XPATH,\"following-sibling::td\").text\n",
    "\n",
    "    index = index + 1\n",
    "\n",
    "    df_alchol.loc[index] = [name, percent_td, category_td, produce_td, supply_td, image_td]\n",
    "    i+1\n",
    "    pass"
   ]
  },
  {
   "cell_type": "code",
   "execution_count": 14,
   "metadata": {},
   "outputs": [
    {
     "name": "stdout",
     "output_type": "stream",
     "text": [
      "현재 1페이지 크롤링 중\n",
      "현재 2페이지 크롤링 중\n",
      "현재 3페이지 크롤링 중\n",
      "현재 4페이지 크롤링 중\n",
      "현재 5페이지 크롤링 중\n",
      "현재 6페이지 크롤링 중\n",
      "현재 7페이지 크롤링 중\n",
      "전통 소주 증류식 NoSuchElementException\n"
     ]
    },
    {
     "ename": "NoSuchElementException",
     "evalue": "Message: no such element: Unable to locate element: {\"method\":\"xpath\",\"selector\":\"//*[@id=\"__next\"]/div/div/div[1]/a[5]/div[1]/img\"}\n  (Session info: chrome=111.0.5563.65)\nStacktrace:\nBacktrace:\n\t(No symbol) [0x006EDCE3]\n\t(No symbol) [0x006839D1]\n\t(No symbol) [0x00594DA8]\n\t(No symbol) [0x005C019F]\n\t(No symbol) [0x005C03AB]\n\t(No symbol) [0x005EEE62]\n\t(No symbol) [0x005DAF14]\n\t(No symbol) [0x005ED57C]\n\t(No symbol) [0x005DACC6]\n\t(No symbol) [0x005B6F68]\n\t(No symbol) [0x005B80CD]\n\tGetHandleVerifier [0x00963832+2506274]\n\tGetHandleVerifier [0x00999794+2727300]\n\tGetHandleVerifier [0x0099E36C+2746716]\n\tGetHandleVerifier [0x00796690+617600]\n\t(No symbol) [0x0068C712]\n\t(No symbol) [0x00691FF8]\n\t(No symbol) [0x006920DB]\n\t(No symbol) [0x0069C63B]\n\tBaseThreadInitThunk [0x761500F9+25]\n\tRtlGetAppContainerNamedObjectPath [0x77157BBE+286]\n\tRtlGetAppContainerNamedObjectPath [0x77157B8E+238]\n",
     "output_type": "error",
     "traceback": [
      "\u001b[1;31m---------------------------------------------------------------------------\u001b[0m",
      "\u001b[1;31mNoSuchElementException\u001b[0m                    Traceback (most recent call last)",
      "Cell \u001b[1;32mIn[14], line 23\u001b[0m\n\u001b[0;32m     22\u001b[0m \u001b[39mtry\u001b[39;00m: \n\u001b[1;32m---> 23\u001b[0m     click \u001b[39m=\u001b[39m driver\u001b[39m.\u001b[39;49mfind_element(By\u001b[39m.\u001b[39;49mXPATH, url_xpath)\n\u001b[0;32m     24\u001b[0m     driver\u001b[39m.\u001b[39mexecute_script(\u001b[39m\"\u001b[39m\u001b[39marguments[0].click();\u001b[39m\u001b[39m\"\u001b[39m, click)\n",
      "File \u001b[1;32mc:\\Users\\5-12\\Anaconda3\\envs\\lambda39\\lib\\site-packages\\selenium\\webdriver\\remote\\webdriver.py:830\u001b[0m, in \u001b[0;36mWebDriver.find_element\u001b[1;34m(self, by, value)\u001b[0m\n\u001b[0;32m    828\u001b[0m     value \u001b[39m=\u001b[39m \u001b[39mf\u001b[39m\u001b[39m'\u001b[39m\u001b[39m[name=\u001b[39m\u001b[39m\"\u001b[39m\u001b[39m{\u001b[39;00mvalue\u001b[39m}\u001b[39;00m\u001b[39m\"\u001b[39m\u001b[39m]\u001b[39m\u001b[39m'\u001b[39m\n\u001b[1;32m--> 830\u001b[0m \u001b[39mreturn\u001b[39;00m \u001b[39mself\u001b[39;49m\u001b[39m.\u001b[39;49mexecute(Command\u001b[39m.\u001b[39;49mFIND_ELEMENT, {\u001b[39m\"\u001b[39;49m\u001b[39musing\u001b[39;49m\u001b[39m\"\u001b[39;49m: by, \u001b[39m\"\u001b[39;49m\u001b[39mvalue\u001b[39;49m\u001b[39m\"\u001b[39;49m: value})[\u001b[39m\"\u001b[39m\u001b[39mvalue\u001b[39m\u001b[39m\"\u001b[39m]\n",
      "File \u001b[1;32mc:\\Users\\5-12\\Anaconda3\\envs\\lambda39\\lib\\site-packages\\selenium\\webdriver\\remote\\webdriver.py:440\u001b[0m, in \u001b[0;36mWebDriver.execute\u001b[1;34m(self, driver_command, params)\u001b[0m\n\u001b[0;32m    439\u001b[0m \u001b[39mif\u001b[39;00m response:\n\u001b[1;32m--> 440\u001b[0m     \u001b[39mself\u001b[39;49m\u001b[39m.\u001b[39;49merror_handler\u001b[39m.\u001b[39;49mcheck_response(response)\n\u001b[0;32m    441\u001b[0m     response[\u001b[39m\"\u001b[39m\u001b[39mvalue\u001b[39m\u001b[39m\"\u001b[39m] \u001b[39m=\u001b[39m \u001b[39mself\u001b[39m\u001b[39m.\u001b[39m_unwrap_value(response\u001b[39m.\u001b[39mget(\u001b[39m\"\u001b[39m\u001b[39mvalue\u001b[39m\u001b[39m\"\u001b[39m, \u001b[39mNone\u001b[39;00m))\n",
      "File \u001b[1;32mc:\\Users\\5-12\\Anaconda3\\envs\\lambda39\\lib\\site-packages\\selenium\\webdriver\\remote\\errorhandler.py:245\u001b[0m, in \u001b[0;36mErrorHandler.check_response\u001b[1;34m(self, response)\u001b[0m\n\u001b[0;32m    244\u001b[0m     \u001b[39mraise\u001b[39;00m exception_class(message, screen, stacktrace, alert_text)  \u001b[39m# type: ignore[call-arg]  # mypy is not smart enough here\u001b[39;00m\n\u001b[1;32m--> 245\u001b[0m \u001b[39mraise\u001b[39;00m exception_class(message, screen, stacktrace)\n",
      "\u001b[1;31mNoSuchElementException\u001b[0m: Message: no such element: Unable to locate element: {\"method\":\"xpath\",\"selector\":\"//*[@id=\"__next\"]/div/div/div[1]/a[5]/div[1]/img\"}\n  (Session info: chrome=111.0.5563.65)\nStacktrace:\nBacktrace:\n\t(No symbol) [0x006EDCE3]\n\t(No symbol) [0x006839D1]\n\t(No symbol) [0x00594DA8]\n\t(No symbol) [0x005C019F]\n\t(No symbol) [0x005C03AB]\n\t(No symbol) [0x005EEE62]\n\t(No symbol) [0x005DAF14]\n\t(No symbol) [0x005ED57C]\n\t(No symbol) [0x005DACC6]\n\t(No symbol) [0x005B6F68]\n\t(No symbol) [0x005B80CD]\n\tGetHandleVerifier [0x00963832+2506274]\n\tGetHandleVerifier [0x00999794+2727300]\n\tGetHandleVerifier [0x0099E36C+2746716]\n\tGetHandleVerifier [0x00796690+617600]\n\t(No symbol) [0x0068C712]\n\t(No symbol) [0x00691FF8]\n\t(No symbol) [0x006920DB]\n\t(No symbol) [0x0069C63B]\n\tBaseThreadInitThunk [0x761500F9+25]\n\tRtlGetAppContainerNamedObjectPath [0x77157BBE+286]\n\tRtlGetAppContainerNamedObjectPath [0x77157B8E+238]\n",
      "\nDuring handling of the above exception, another exception occurred:\n",
      "\u001b[1;31mNoSuchElementException\u001b[0m                    Traceback (most recent call last)",
      "Cell \u001b[1;32mIn[14], line 68\u001b[0m\n\u001b[0;32m     66\u001b[0m \u001b[39mexcept\u001b[39;00m NoSuchElementException:\n\u001b[0;32m     67\u001b[0m     \u001b[39mprint\u001b[39m( category_td \u001b[39m+\u001b[39m \u001b[39m\"\u001b[39m\u001b[39m NoSuchElementException\u001b[39m\u001b[39m\"\u001b[39m)\n\u001b[1;32m---> 68\u001b[0m     Crawling(driver, page, \u001b[39mtype\u001b[39;49m, url_xpath, df_alchol, i)\n\u001b[0;32m     71\u001b[0m \u001b[39mexcept\u001b[39;00m \u001b[39mIndexError\u001b[39;00m:\n\u001b[0;32m     72\u001b[0m     \u001b[39mprint\u001b[39m( category_td \u001b[39m+\u001b[39m \u001b[39m\"\u001b[39m\u001b[39m IndexError\u001b[39m\u001b[39m\"\u001b[39m)\n",
      "Cell \u001b[1;32mIn[9], line 4\u001b[0m, in \u001b[0;36mCrawling\u001b[1;34m(driver, page, type, url_xpath, df_alchol, i)\u001b[0m\n\u001b[0;32m      2\u001b[0m url \u001b[39m=\u001b[39m \u001b[39m'\u001b[39m\u001b[39mhttps://business.veluga.kr/search/result/?page=\u001b[39m\u001b[39m'\u001b[39m \u001b[39m+\u001b[39m \u001b[39mstr\u001b[39m(page) \u001b[39m+\u001b[39m \u001b[39m'\u001b[39m\u001b[39m&drink_type_id=\u001b[39m\u001b[39m'\u001b[39m \u001b[39m+\u001b[39m \u001b[39mstr\u001b[39m(\u001b[39mtype\u001b[39m)\n\u001b[0;32m      3\u001b[0m driver\u001b[39m.\u001b[39mget(url)\n\u001b[1;32m----> 4\u001b[0m click \u001b[39m=\u001b[39m driver\u001b[39m.\u001b[39;49mfind_element(By\u001b[39m.\u001b[39;49mXPATH, url_xpath)\n\u001b[0;32m      5\u001b[0m driver\u001b[39m.\u001b[39mexecute_script(\u001b[39m\"\u001b[39m\u001b[39marguments[0].click();\u001b[39m\u001b[39m\"\u001b[39m, click)\n\u001b[0;32m      6\u001b[0m time\u001b[39m.\u001b[39msleep(\u001b[39m3\u001b[39m)\n",
      "File \u001b[1;32mc:\\Users\\5-12\\Anaconda3\\envs\\lambda39\\lib\\site-packages\\selenium\\webdriver\\remote\\webdriver.py:830\u001b[0m, in \u001b[0;36mWebDriver.find_element\u001b[1;34m(self, by, value)\u001b[0m\n\u001b[0;32m    827\u001b[0m     by \u001b[39m=\u001b[39m By\u001b[39m.\u001b[39mCSS_SELECTOR\n\u001b[0;32m    828\u001b[0m     value \u001b[39m=\u001b[39m \u001b[39mf\u001b[39m\u001b[39m'\u001b[39m\u001b[39m[name=\u001b[39m\u001b[39m\"\u001b[39m\u001b[39m{\u001b[39;00mvalue\u001b[39m}\u001b[39;00m\u001b[39m\"\u001b[39m\u001b[39m]\u001b[39m\u001b[39m'\u001b[39m\n\u001b[1;32m--> 830\u001b[0m \u001b[39mreturn\u001b[39;00m \u001b[39mself\u001b[39;49m\u001b[39m.\u001b[39;49mexecute(Command\u001b[39m.\u001b[39;49mFIND_ELEMENT, {\u001b[39m\"\u001b[39;49m\u001b[39musing\u001b[39;49m\u001b[39m\"\u001b[39;49m: by, \u001b[39m\"\u001b[39;49m\u001b[39mvalue\u001b[39;49m\u001b[39m\"\u001b[39;49m: value})[\u001b[39m\"\u001b[39m\u001b[39mvalue\u001b[39m\u001b[39m\"\u001b[39m]\n",
      "File \u001b[1;32mc:\\Users\\5-12\\Anaconda3\\envs\\lambda39\\lib\\site-packages\\selenium\\webdriver\\remote\\webdriver.py:440\u001b[0m, in \u001b[0;36mWebDriver.execute\u001b[1;34m(self, driver_command, params)\u001b[0m\n\u001b[0;32m    438\u001b[0m response \u001b[39m=\u001b[39m \u001b[39mself\u001b[39m\u001b[39m.\u001b[39mcommand_executor\u001b[39m.\u001b[39mexecute(driver_command, params)\n\u001b[0;32m    439\u001b[0m \u001b[39mif\u001b[39;00m response:\n\u001b[1;32m--> 440\u001b[0m     \u001b[39mself\u001b[39;49m\u001b[39m.\u001b[39;49merror_handler\u001b[39m.\u001b[39;49mcheck_response(response)\n\u001b[0;32m    441\u001b[0m     response[\u001b[39m\"\u001b[39m\u001b[39mvalue\u001b[39m\u001b[39m\"\u001b[39m] \u001b[39m=\u001b[39m \u001b[39mself\u001b[39m\u001b[39m.\u001b[39m_unwrap_value(response\u001b[39m.\u001b[39mget(\u001b[39m\"\u001b[39m\u001b[39mvalue\u001b[39m\u001b[39m\"\u001b[39m, \u001b[39mNone\u001b[39;00m))\n\u001b[0;32m    442\u001b[0m     \u001b[39mreturn\u001b[39;00m response\n",
      "File \u001b[1;32mc:\\Users\\5-12\\Anaconda3\\envs\\lambda39\\lib\\site-packages\\selenium\\webdriver\\remote\\errorhandler.py:245\u001b[0m, in \u001b[0;36mErrorHandler.check_response\u001b[1;34m(self, response)\u001b[0m\n\u001b[0;32m    243\u001b[0m         alert_text \u001b[39m=\u001b[39m value[\u001b[39m\"\u001b[39m\u001b[39malert\u001b[39m\u001b[39m\"\u001b[39m]\u001b[39m.\u001b[39mget(\u001b[39m\"\u001b[39m\u001b[39mtext\u001b[39m\u001b[39m\"\u001b[39m)\n\u001b[0;32m    244\u001b[0m     \u001b[39mraise\u001b[39;00m exception_class(message, screen, stacktrace, alert_text)  \u001b[39m# type: ignore[call-arg]  # mypy is not smart enough here\u001b[39;00m\n\u001b[1;32m--> 245\u001b[0m \u001b[39mraise\u001b[39;00m exception_class(message, screen, stacktrace)\n",
      "\u001b[1;31mNoSuchElementException\u001b[0m: Message: no such element: Unable to locate element: {\"method\":\"xpath\",\"selector\":\"//*[@id=\"__next\"]/div/div/div[1]/a[5]/div[1]/img\"}\n  (Session info: chrome=111.0.5563.65)\nStacktrace:\nBacktrace:\n\t(No symbol) [0x006EDCE3]\n\t(No symbol) [0x006839D1]\n\t(No symbol) [0x00594DA8]\n\t(No symbol) [0x005C019F]\n\t(No symbol) [0x005C03AB]\n\t(No symbol) [0x005EEE62]\n\t(No symbol) [0x005DAF14]\n\t(No symbol) [0x005ED57C]\n\t(No symbol) [0x005DACC6]\n\t(No symbol) [0x005B6F68]\n\t(No symbol) [0x005B80CD]\n\tGetHandleVerifier [0x00963832+2506274]\n\tGetHandleVerifier [0x00999794+2727300]\n\tGetHandleVerifier [0x0099E36C+2746716]\n\tGetHandleVerifier [0x00796690+617600]\n\t(No symbol) [0x0068C712]\n\t(No symbol) [0x00691FF8]\n\t(No symbol) [0x006920DB]\n\t(No symbol) [0x0069C63B]\n\tBaseThreadInitThunk [0x761500F9+25]\n\tRtlGetAppContainerNamedObjectPath [0x77157BBE+286]\n\tRtlGetAppContainerNamedObjectPath [0x77157B8E+238]\n"
     ]
    }
   ],
   "source": [
    "from selenium.common.exceptions import ElementNotInteractableException, ElementClickInterceptedException, NoSuchElementException\n",
    "\n",
    "df_alchol = pd.DataFrame(columns = ['name', 'percent', 'category', 'produce', 'supply', 'img_url'])\n",
    "driver = webdriver.Chrome(executable_path='chromedriver')\n",
    "index = 0\n",
    "for page in range(1, 7+1):\n",
    "    ## 크롤링할 페이지 변수 \n",
    "    type = 13\n",
    "    url = 'https://business.veluga.kr/search/result/?page=' + str(page) + '&drink_type_id=' + str(type)\n",
    "    driver.get(url)\n",
    "\n",
    "    print(\"현재 \" + str(page) + \"페이지 크롤링 중\")\n",
    " \n",
    "    # 페이지의 총 20개 아이템을 하나씩 돌면서 크롤링\n",
    "    for i in range(1, 20 + 1):\n",
    "        \n",
    "        time.sleep(3)\n",
    "        base_xpath = '//*[@id=\"__next\"]/div/div/div[1]/a['\n",
    "        tail_xpath = ']/div[1]/img'\n",
    "        url_xpath = base_xpath + str(i) + tail_xpath\n",
    "        \n",
    "        try: \n",
    "            click = driver.find_element(By.XPATH, url_xpath)\n",
    "            driver.execute_script(\"arguments[0].click();\", click)\n",
    "            time.sleep(3)\n",
    "\n",
    "            # 이미지 url \n",
    "            image_element = driver.find_elements(By.XPATH,'//*[@id=\"__next\"]/div/div/div[1]/img')[0]\n",
    "            image_td = image_element.get_attribute('src')\n",
    "\n",
    "            # 주류 이름\n",
    "            name =  driver.find_element(By.XPATH,'//*[@id=\"__next\"]/div/div/div[2]/div[1]/h1').text\n",
    "            \n",
    "            # 주류 도수\n",
    "            percent =  driver.find_element(By.XPATH,\"//th[contains(text(), '도수')]\")\n",
    "            percent_td = percent.find_element(By.XPATH,\"following-sibling::td\").text\n",
    "\n",
    "            # 주류 카테고리\n",
    "            category =  driver.find_element(By.XPATH,\"//th[contains(text(), '스타일')]\")\n",
    "            category_td = category.find_element(By.XPATH,\"following-sibling::td\").text\n",
    "\n",
    "            # 주류 제조사\n",
    "            produce =  driver.find_element(By.XPATH,\"//th[contains(text(), '제조사')]\")\n",
    "            produce_td = produce.find_element(By.XPATH,\"following-sibling::td\").text\n",
    "            # 주류 공급사\n",
    "            supply = driver.find_element(By.XPATH,\"//th[contains(text(), '공급사')]\")\n",
    "            supply_td = supply.find_element(By.XPATH,\"following-sibling::td\").text\n",
    "\n",
    "            # 크롤링한 데이터 데이터프레임에 넣기\n",
    "            df_alchol.loc[index] = [name, percent_td, category_td, produce_td, supply_td, image_td] \n",
    "\n",
    "            # 데이터 프레임 인덱스 증가\n",
    "            index = index + 1\n",
    "\n",
    "        # 오류가 발생했을 경우 발생한 페이지 재접속하여 크롤링 시도\n",
    "        except ElementNotInteractableException:\n",
    "            print(category_td + \" pass\")\n",
    "            Crawling(driver, page, type, url_xpath, df_alchol, i)\n",
    "\n",
    "\n",
    "        except ElementClickInterceptedException:\n",
    "            print(category_td + \" pass\")\n",
    "            Crawling(driver, page, type, url_xpath, df_alchol, i)\n",
    "\n",
    "\n",
    "        except NoSuchElementException:\n",
    "            print( category_td + \" NoSuchElementException\")\n",
    "            Crawling(driver, page, type, url_xpath, df_alchol, i)\n",
    "\n",
    "\n",
    "        except IndexError:\n",
    "            print( category_td + \" IndexError\")\n",
    "            Crawling(driver, page, type, url_xpath, df_alchol, i)\n",
    "\n",
    "\n",
    "        driver.back()   \n"
   ]
  },
  {
   "cell_type": "code",
   "execution_count": 15,
   "metadata": {},
   "outputs": [],
   "source": [
    "df_alchol.to_csv('alcohol_add_data3.csv')"
   ]
  },
  {
   "cell_type": "code",
   "execution_count": 16,
   "metadata": {},
   "outputs": [
    {
     "data": {
      "text/html": [
       "<div>\n",
       "<style scoped>\n",
       "    .dataframe tbody tr th:only-of-type {\n",
       "        vertical-align: middle;\n",
       "    }\n",
       "\n",
       "    .dataframe tbody tr th {\n",
       "        vertical-align: top;\n",
       "    }\n",
       "\n",
       "    .dataframe thead th {\n",
       "        text-align: right;\n",
       "    }\n",
       "</style>\n",
       "<table border=\"1\" class=\"dataframe\">\n",
       "  <thead>\n",
       "    <tr style=\"text-align: right;\">\n",
       "      <th></th>\n",
       "      <th>name</th>\n",
       "      <th>percent</th>\n",
       "      <th>category</th>\n",
       "      <th>produce</th>\n",
       "      <th>supply</th>\n",
       "      <th>img_url</th>\n",
       "    </tr>\n",
       "  </thead>\n",
       "  <tbody>\n",
       "    <tr>\n",
       "      <th>0</th>\n",
       "      <td>경복궁 소주 40</td>\n",
       "      <td>40.0%</td>\n",
       "      <td>전통 소주 증류식</td>\n",
       "      <td>지비지 스피리츠 주식회사 농업회사법인</td>\n",
       "      <td>지비지 스피리츠 주식회사 농업회사법인</td>\n",
       "      <td>https://cdn.veluga.kr/files/supplier/369/drink...</td>\n",
       "    </tr>\n",
       "    <tr>\n",
       "      <th>1</th>\n",
       "      <td>경복궁 소주 20</td>\n",
       "      <td>20.0%</td>\n",
       "      <td>전통 소주 증류식</td>\n",
       "      <td>지비지 스피리츠 주식회사 농업회사법인</td>\n",
       "      <td>지비지 스피리츠 주식회사 농업회사법인</td>\n",
       "      <td>https://cdn.veluga.kr/files/supplier/369/drink...</td>\n",
       "    </tr>\n",
       "    <tr>\n",
       "      <th>2</th>\n",
       "      <td>산사춘</td>\n",
       "      <td>12.0%</td>\n",
       "      <td>전통 소주</td>\n",
       "      <td>농업회사법인 배상면주가</td>\n",
       "      <td>하이트진로 국산</td>\n",
       "      <td>https://cdn.veluga.kr/drinks/0/main/4345286d6d...</td>\n",
       "    </tr>\n",
       "    <tr>\n",
       "      <th>3</th>\n",
       "      <td>숙성증류주 혼</td>\n",
       "      <td>22.0%</td>\n",
       "      <td>전통 소주 증류식</td>\n",
       "      <td>농업회사법인 (주)제이엘</td>\n",
       "      <td>주식회사 골든블루</td>\n",
       "      <td>https://cdn.veluga.kr/files/supplier/90/drinks...</td>\n",
       "    </tr>\n",
       "    <tr>\n",
       "      <th>4</th>\n",
       "      <td>농태기</td>\n",
       "      <td>25.0%</td>\n",
       "      <td>전통 소주 증류식</td>\n",
       "      <td>하나도가</td>\n",
       "      <td>부국상사</td>\n",
       "      <td>https://cdn.veluga.kr/files/supplier/42/drinks...</td>\n",
       "    </tr>\n",
       "    <tr>\n",
       "      <th>...</th>\n",
       "      <td>...</td>\n",
       "      <td>...</td>\n",
       "      <td>...</td>\n",
       "      <td>...</td>\n",
       "      <td>...</td>\n",
       "      <td>...</td>\n",
       "    </tr>\n",
       "    <tr>\n",
       "      <th>119</th>\n",
       "      <td>안동소주 일품 40</td>\n",
       "      <td>40.0%</td>\n",
       "      <td>전통 소주 증류식</td>\n",
       "      <td>안동소주일품(주)</td>\n",
       "      <td>한국술유통</td>\n",
       "      <td>https://cdn.veluga.kr/files/supplier/temporary...</td>\n",
       "    </tr>\n",
       "    <tr>\n",
       "      <th>120</th>\n",
       "      <td>필 25</td>\n",
       "      <td>25.0%</td>\n",
       "      <td>전통 소주 증류식</td>\n",
       "      <td>술아원</td>\n",
       "      <td>한국술유통</td>\n",
       "      <td>https://cdn.veluga.kr/files/supplier/temporary...</td>\n",
       "    </tr>\n",
       "    <tr>\n",
       "      <th>121</th>\n",
       "      <td>여주명주 려40</td>\n",
       "      <td>40.0%</td>\n",
       "      <td>전통 소주 증류식</td>\n",
       "      <td>국순당 여주명주</td>\n",
       "      <td>한국술유통</td>\n",
       "      <td>https://cdn.veluga.kr/files/supplier/temporary...</td>\n",
       "    </tr>\n",
       "    <tr>\n",
       "      <th>122</th>\n",
       "      <td>여주명주 려25</td>\n",
       "      <td>25.0%</td>\n",
       "      <td>전통 소주 증류식</td>\n",
       "      <td>국순당 여주명주</td>\n",
       "      <td>한국술유통</td>\n",
       "      <td>https://cdn.veluga.kr/files/supplier/temporary...</td>\n",
       "    </tr>\n",
       "    <tr>\n",
       "      <th>123</th>\n",
       "      <td>원 소주</td>\n",
       "      <td>22.0%</td>\n",
       "      <td>전통 소주 증류식</td>\n",
       "      <td>원스피리츠 주식회사 농업회사법인</td>\n",
       "      <td>원스피리츠 주식회사</td>\n",
       "      <td>https://cdn.veluga.kr/files/supplier/undefined...</td>\n",
       "    </tr>\n",
       "  </tbody>\n",
       "</table>\n",
       "<p>124 rows × 6 columns</p>\n",
       "</div>"
      ],
      "text/plain": [
       "           name percent   category               produce  \\\n",
       "0     경복궁 소주 40   40.0%  전통 소주 증류식  지비지 스피리츠 주식회사 농업회사법인   \n",
       "1     경복궁 소주 20   20.0%  전통 소주 증류식  지비지 스피리츠 주식회사 농업회사법인   \n",
       "2           산사춘   12.0%      전통 소주          농업회사법인 배상면주가   \n",
       "3       숙성증류주 혼   22.0%  전통 소주 증류식         농업회사법인 (주)제이엘   \n",
       "4           농태기   25.0%  전통 소주 증류식                  하나도가   \n",
       "..          ...     ...        ...                   ...   \n",
       "119  안동소주 일품 40   40.0%  전통 소주 증류식             안동소주일품(주)   \n",
       "120        필 25   25.0%  전통 소주 증류식                   술아원   \n",
       "121    여주명주 려40   40.0%  전통 소주 증류식              국순당 여주명주   \n",
       "122    여주명주 려25   25.0%  전통 소주 증류식              국순당 여주명주   \n",
       "123        원 소주   22.0%  전통 소주 증류식     원스피리츠 주식회사 농업회사법인   \n",
       "\n",
       "                   supply                                            img_url  \n",
       "0    지비지 스피리츠 주식회사 농업회사법인  https://cdn.veluga.kr/files/supplier/369/drink...  \n",
       "1    지비지 스피리츠 주식회사 농업회사법인  https://cdn.veluga.kr/files/supplier/369/drink...  \n",
       "2                하이트진로 국산  https://cdn.veluga.kr/drinks/0/main/4345286d6d...  \n",
       "3               주식회사 골든블루  https://cdn.veluga.kr/files/supplier/90/drinks...  \n",
       "4                    부국상사  https://cdn.veluga.kr/files/supplier/42/drinks...  \n",
       "..                    ...                                                ...  \n",
       "119                 한국술유통  https://cdn.veluga.kr/files/supplier/temporary...  \n",
       "120                 한국술유통  https://cdn.veluga.kr/files/supplier/temporary...  \n",
       "121                 한국술유통  https://cdn.veluga.kr/files/supplier/temporary...  \n",
       "122                 한국술유통  https://cdn.veluga.kr/files/supplier/temporary...  \n",
       "123            원스피리츠 주식회사  https://cdn.veluga.kr/files/supplier/undefined...  \n",
       "\n",
       "[124 rows x 6 columns]"
      ]
     },
     "execution_count": 16,
     "metadata": {},
     "output_type": "execute_result"
    }
   ],
   "source": [
    "df_alchol"
   ]
  },
  {
   "cell_type": "code",
   "execution_count": 10,
   "metadata": {},
   "outputs": [
    {
     "data": {
      "text/plain": [
       "array(['리큐르'], dtype=object)"
      ]
     },
     "execution_count": 10,
     "metadata": {},
     "output_type": "execute_result"
    }
   ],
   "source": [
    "df_alchol['category'].unique()"
   ]
  },
  {
   "cell_type": "code",
   "execution_count": 334,
   "metadata": {},
   "outputs": [],
   "source": [
    "alchol_df1 = pd.read_csv('alchol_all.csv')\n",
    "alchol_df1.drop(columns= \"Unnamed: 0\", inplace= True)\n",
    "alchol_df2 = pd.read_csv('alchol_crawling_df1', index_col=0)\n",
    "alchol_df3 = pd.read_csv('alchol_crawling_df2', index_col=0)\n",
    "alchol_df4 = pd.read_csv('alchol_crawling_df3', index_col=0)"
   ]
  },
  {
   "cell_type": "code",
   "execution_count": 4,
   "metadata": {},
   "outputs": [
    {
     "ename": "NameError",
     "evalue": "name 'pd' is not defined",
     "output_type": "error",
     "traceback": [
      "\u001b[1;31m---------------------------------------------------------------------------\u001b[0m",
      "\u001b[1;31mNameError\u001b[0m                                 Traceback (most recent call last)",
      "Cell \u001b[1;32mIn[4], line 1\u001b[0m\n\u001b[1;32m----> 1\u001b[0m alchol_df \u001b[39m=\u001b[39m pd\u001b[39m.\u001b[39mconcat([alchol_df1, alchol_df2,alchol_df3,alchol_df4], ignore_index\u001b[39m=\u001b[39m \u001b[39mTrue\u001b[39;00m)\n",
      "\u001b[1;31mNameError\u001b[0m: name 'pd' is not defined"
     ]
    }
   ],
   "source": [
    "alchol_df = pd.concat([alchol_df1, alchol_df2,alchol_df3,alchol_df4], ignore_index= True)"
   ]
  },
  {
   "cell_type": "code",
   "execution_count": 346,
   "metadata": {},
   "outputs": [],
   "source": [
    "alchol_df.to_csv('alchol_df.csv')"
   ]
  },
  {
   "cell_type": "code",
   "execution_count": 9,
   "metadata": {},
   "outputs": [],
   "source": [
    "alchol_df = pd.read_csv('data/alchol_df.csv', index_col= 0)"
   ]
  },
  {
   "cell_type": "code",
   "execution_count": 7,
   "metadata": {},
   "outputs": [
    {
     "ename": "NameError",
     "evalue": "name 'alchol_df' is not defined",
     "output_type": "error",
     "traceback": [
      "\u001b[1;31m---------------------------------------------------------------------------\u001b[0m",
      "\u001b[1;31mNameError\u001b[0m                                 Traceback (most recent call last)",
      "Cell \u001b[1;32mIn[7], line 1\u001b[0m\n\u001b[1;32m----> 1\u001b[0m alchol_df\n",
      "\u001b[1;31mNameError\u001b[0m: name 'alchol_df' is not defined"
     ]
    }
   ],
   "source": [
    "alchol_df"
   ]
  },
  {
   "cell_type": "code",
   "execution_count": 46,
   "metadata": {},
   "outputs": [
    {
     "data": {
      "text/plain": [
       "array([nan, '스피릿', '칵테일', '증류식', '사이더', '맥주', '기타', '윗비어', '페일 라거', '라거',\n",
       "       '스타우트', '사워', '임페리얼 스타우트', '와일드 에일', 'IPA', '필스너', '더블 IPA',\n",
       "       '페일 에일', '헬레스 라거', '고제', '메르첸', '벨지안 에일', '블론드 에일', '트리펠', '람빅',\n",
       "       '프루트 비어', '바이젠 복', '바이젠', '위트 비어', '두벨', '세종', '포터', '발틱 포터',\n",
       "       '벨지안 스트롱 에일', '임페리얼 IPA', '브라운 에일', '베를리너 바이세', '다크 IPA', '세션 IPA',\n",
       "       '위트 에일', '다크 라거', '골든 에일', '엠버 에일', '쿼드루펠', '라들러', '괴즈',\n",
       "       '잉글리시 스트롱 에일', '헤페 바이젠', '프루티드 람빅', '올드 에일', '쾰쉬', '아메리칸 스트롱 에일',\n",
       "       '발리 와인', '아이스 복', '도펠 복', '둥켈', '엠버 라거', '그리셋', '스모크 비어', '둥켈 바이젠',\n",
       "       '스카치 에일', '희석식', '막걸리'], dtype=object)"
      ]
     },
     "execution_count": 46,
     "metadata": {},
     "output_type": "execute_result"
    }
   ],
   "source": [
    "alchol_df['category'].unique()"
   ]
  },
  {
   "cell_type": "code",
   "execution_count": 21,
   "metadata": {},
   "outputs": [],
   "source": [
    "alchol_df['class'] = np.nan\n",
    "alchol_df['category1'] = np.nan\n",
    "\n",
    "category = alchol_df['category'].str.split(' ')\n",
    "\n",
    "for i, j in enumerate(category):\n",
    "    \n",
    "    if len(j) == 1 :\n",
    "        alchol_df['class'][i] = j[0]\n",
    "\n",
    "    if len(j) == 2 :\n",
    "        if j[0] == '탁주' or j[0] == '과실주' or j[0] == '논알콜':\n",
    "            alchol_df['class'][i] = j[0]\n",
    "            alchol_df['category1'][i] = j[1]\n",
    "\n",
    "        else :\n",
    "            alchol_df['class'][i] = j[0] + \" \" +j[1]\n",
    "\n",
    "    if len(j) == 3 :\n",
    "        alchol_df['class'][i] = j[0] + \" \" + j[1]\n",
    "        alchol_df['category1'][i] = j[2]\n",
    "\n",
    "\n",
    "    if len(j) == 4 :\n",
    "        alchol_df['class'][i] = j[0] + \" \" + j[1]\n",
    "        alchol_df['category1'][i] = j[2] + \" \" + j[3]\n",
    "\n",
    "    if len(j) == 5 :\n",
    "        alchol_df['class'][i] = j[0] + \" \" + j[1]\n",
    "        alchol_df['category1'][i] = j[2] + \" \" + j[3] + \" \" + j[4]\n",
    "\n"
   ]
  },
  {
   "cell_type": "code",
   "execution_count": 24,
   "metadata": {},
   "outputs": [],
   "source": [
    "alchol_df.drop(columns= '580' , inplace= True)"
   ]
  },
  {
   "cell_type": "code",
   "execution_count": 35,
   "metadata": {},
   "outputs": [],
   "source": [
    "alchol_df.to_csv('test.csv')"
   ]
  },
  {
   "cell_type": "code",
   "execution_count": 38,
   "metadata": {},
   "outputs": [],
   "source": [
    "alchol_df.drop(columns= 'category', inplace= True)"
   ]
  },
  {
   "cell_type": "code",
   "execution_count": 41,
   "metadata": {},
   "outputs": [],
   "source": [
    "alchol_df = alchol_df[['name', 'percent','class','category1','produce' ,'supply', 'img_url']]"
   ]
  },
  {
   "cell_type": "code",
   "execution_count": 44,
   "metadata": {},
   "outputs": [],
   "source": [
    "alchol_df = alchol_df.rename(columns={\"category1\" : \"category\"})"
   ]
  },
  {
   "cell_type": "code",
   "execution_count": 45,
   "metadata": {},
   "outputs": [],
   "source": [
    "alchol_df.to_csv('alchol_data.csv')"
   ]
  },
  {
   "cell_type": "code",
   "execution_count": null,
   "metadata": {},
   "outputs": [],
   "source": []
  }
 ],
 "metadata": {
  "kernelspec": {
   "display_name": "lambda39",
   "language": "python",
   "name": "python3"
  },
  "language_info": {
   "codemirror_mode": {
    "name": "ipython",
    "version": 3
   },
   "file_extension": ".py",
   "mimetype": "text/x-python",
   "name": "python",
   "nbconvert_exporter": "python",
   "pygments_lexer": "ipython3",
   "version": "3.9.15"
  },
  "orig_nbformat": 4,
  "vscode": {
   "interpreter": {
    "hash": "70782d4b436c82f679cd55e8f725603bcea6db5f7ca6db7a03587cd4885f9f2b"
   }
  }
 },
 "nbformat": 4,
 "nbformat_minor": 2
}
